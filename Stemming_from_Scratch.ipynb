{
  "nbformat": 4,
  "nbformat_minor": 0,
  "metadata": {
    "colab": {
      "name": "Stemming from Scratch.ipynb",
      "provenance": [],
      "authorship_tag": "ABX9TyMzu87frhyOV5UWdPN3Ilfl",
      "include_colab_link": true
    },
    "kernelspec": {
      "name": "python3",
      "display_name": "Python 3"
    },
    "language_info": {
      "name": "python"
    }
  },
  "cells": [
    {
      "cell_type": "markdown",
      "metadata": {
        "id": "view-in-github",
        "colab_type": "text"
      },
      "source": [
        "<a href=\"https://colab.research.google.com/github/SupritiVijay/Stemming-From-Scratch/blob/main/Stemming_from_Scratch.ipynb\" target=\"_parent\"><img src=\"https://colab.research.google.com/assets/colab-badge.svg\" alt=\"Open In Colab\"/></a>"
      ]
    },
    {
      "cell_type": "code",
      "source": [
        "import re,copy\n",
        "import matplotlib.pyplot as plt"
      ],
      "metadata": {
        "id": "SQpO8eXIc3dL"
      },
      "execution_count": 1,
      "outputs": []
    },
    {
      "cell_type": "code",
      "execution_count": 2,
      "metadata": {
        "id": "c2OOGe9zPzvf"
      },
      "outputs": [],
      "source": [
        "def read_file(filename):\n",
        "  with open(filename,\"r\") as file:\n",
        "      data = file.read().replace('\\n', ' ').lower() #lowercase\n",
        "  return data"
      ]
    },
    {
      "cell_type": "code",
      "source": [
        "#Remove Abbreviations\n",
        "def remove_abbreviations(data):\n",
        "  data = re.sub(r'(?<!\\w)([A-Z])\\.', r'\\1', data)\n",
        "  return data"
      ],
      "metadata": {
        "id": "e1Tz9bwYaonp"
      },
      "execution_count": 3,
      "outputs": []
    },
    {
      "cell_type": "code",
      "source": [
        "#Tokenization of words\n",
        "def tokenization(data):\n",
        "  tokenized_words = re.sub(\"[^\\w\\s]\", \" \", data) \n",
        "  word_list = tokenized_words.split()\n",
        "  \n",
        "  return word_list"
      ],
      "metadata": {
        "id": "yGHQZZSHP3D9"
      },
      "execution_count": 4,
      "outputs": []
    },
    {
      "cell_type": "code",
      "source": [
        "#Remove Stopwords\n",
        "def remove_stopwords(data):\n",
        "  with open(\"stopwords.txt\",\"r\") as file:\n",
        "    stopwords = file.read()\n",
        "    stopword_list = stopwords.split()\n",
        "\n",
        "  no_stopwords  = [word for word in data if word.lower() not in stopword_list]\n",
        "  \n",
        "  return no_stopwords"
      ],
      "metadata": {
        "id": "G5bE5QDVP4Gt"
      },
      "execution_count": 5,
      "outputs": []
    },
    {
      "cell_type": "code",
      "source": [
        "vowel = ['a','e','i','o','u']\n",
        "\n",
        "#Stemming for a single word\n",
        "def stemming_singleword(word):\n",
        "  if(len(word)>1):\n",
        "    if(word.endswith('sses') and len(word) > 4):\n",
        "      word = word[:-2]\n",
        "\n",
        "    elif(word.endswith('s') and (word[-2] not in vowel) and len([w for w in word[:-2] if w in vowel])>0):\n",
        "      word = word[:-1]\n",
        "\n",
        "    elif(word.endswith('ies') or word.endswith('ied')):\n",
        "      if(len(word)<5):\n",
        "        word = word[:-1]\n",
        "      else:\n",
        "        word = word[:-2]\n",
        "\n",
        "    elif(word.endswith('eed') and len([w for w in word[:-3] if w in vowel])>0):\n",
        "      r = [w for w in word[:-3] if w in vowel][-1]\n",
        "      red = word[:-3].rfind(r)\n",
        "      if(word[red+1:-3] not in vowel and len(word[red+1:-3])>0):\n",
        "        word = word[:-1]\n",
        "\n",
        "    elif(word.endswith('eedly') and len([w for w in word[:-5] if w in vowel])>0):\n",
        "      r = [w for w in word[:-5] if w in vowel][-1]\n",
        "      red = word[:-5].rfind(r)\n",
        "      if(word[red+1:-5] not in vowel and len(word[red+1:-5])>0):\n",
        "        word = word[:-3]\n",
        "\n",
        "    elif(word.endswith('edly') or word.endswith('ed') or word.endswith('ing') or word.endswith('ingly')):\n",
        "      lastwords= ['edly','ed','ing','ingly']\n",
        "      remwords = ['at', 'bl', 'iz']\n",
        "      repeatword = ['ll','ss','zz']\n",
        "      for i in lastwords:\n",
        "        if(word.endswith(i)):\n",
        "          if(len([w for w in word[:-len(i)] if w in vowel])>0):\n",
        "            remainingword = word[:-len(i)]\n",
        "            # print(remainingword)\n",
        "            if(remainingword[-2:] in remwords or len(remainingword)<5):\n",
        "              word = remainingword + 'e'\n",
        "            elif(remainingword[-1]==remainingword[-2] and remainingword[-2:] not in repeatword):\n",
        "              word = remainingword[:-1]\n",
        "\n",
        "  return word\n",
        "  \n",
        "#Stemming for the entire list of data\n",
        "def stemming(data):\n",
        "  data = [stemming_singleword(word) for word in data]\n",
        "  data = [word.replace(\"_\",\"\") for word in data]\n",
        "\n",
        "  return data"
      ],
      "metadata": {
        "id": "_SJwjOcjP4gM"
      },
      "execution_count": 6,
      "outputs": []
    },
    {
      "cell_type": "code",
      "source": [
        "#Count of Vocabulary\n",
        "def count_vocabulary(data):\n",
        "  count = 0\n",
        "  x_array = []\n",
        "  y_array = []\n",
        "  vocab = []\n",
        "  for i in range(len(data)):\n",
        "    if(data[i] not in vocab):\n",
        "      vocab.append(data[i])\n",
        "      count = count + 1\n",
        "      \n",
        "    x_array.append(i)\n",
        "    y_array.append(count)\n",
        "    \n",
        "  plt.plot(x_array, y_array, label = \"line 2\")\n",
        "  \n",
        "  # naming the x axis\n",
        "  plt.xlabel('Words in collection')\n",
        "  # naming the y axis\n",
        "  plt.ylabel('Words in vocabulary')\n",
        "  # giving a title to the graph\n",
        "  plt.title('Count of Vocabulary')"
      ],
      "metadata": {
        "id": "R5n7ysnbP4r0"
      },
      "execution_count": 7,
      "outputs": []
    },
    {
      "cell_type": "code",
      "source": [
        "def main(filename):\n",
        "  data = read_file(filename)\n",
        "  data = remove_abbreviations(data)\n",
        "  data = tokenization(data)\n",
        "  data = remove_stopwords(data)\n",
        "  data = stemming(data)\n",
        "  count_vocabulary(data)\n",
        "\n",
        "main('tokenization-input-part-B.txt')"
      ],
      "metadata": {
        "colab": {
          "base_uri": "https://localhost:8080/",
          "height": 295
        },
        "id": "RbKZxWWxvkfk",
        "outputId": "9718ce36-5102-4aaf-a68d-8fe885bf69f1"
      },
      "execution_count": 8,
      "outputs": [
        {
          "output_type": "display_data",
          "data": {
            "image/png": "[encoded data removed]",
            "text/plain": [
              "<Figure size 432x288 with 1 Axes>"
            ]
          },
          "metadata": {
            "needs_background": "light"
          }
        }
      ]
    },
    {
      "cell_type": "code",
      "source": [
        ""
      ],
      "metadata": {
        "id": "unNm6WBnLbt5"
      },
      "execution_count": 8,
      "outputs": []
    }
  ]
}